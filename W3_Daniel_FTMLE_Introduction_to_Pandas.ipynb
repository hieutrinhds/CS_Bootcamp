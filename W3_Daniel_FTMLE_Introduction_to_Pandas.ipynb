{
  "nbformat": 4,
  "nbformat_minor": 0,
  "metadata": {
    "colab": {
      "name": "W3_Daniel_FTMLE_Introduction to Pandas.ipynb",
      "provenance": [],
      "collapsed_sections": [],
      "include_colab_link": true
    },
    "kernelspec": {
      "name": "python3",
      "display_name": "Python 3"
    }
  },
  "cells": [
    {
      "cell_type": "markdown",
      "metadata": {
        "id": "view-in-github",
        "colab_type": "text"
      },
      "source": [
        "<a href=\"https://colab.research.google.com/github/hieutrinhds/CS_Bootcamp/blob/master/W3_Daniel_FTMLE_Introduction_to_Pandas.ipynb\" target=\"_parent\"><img src=\"https://colab.research.google.com/assets/colab-badge.svg\" alt=\"Open In Colab\"/></a>"
      ]
    },
    {
      "cell_type": "markdown",
      "metadata": {
        "id": "XXdrzdE1hv4o",
        "colab_type": "text"
      },
      "source": [
        "# Introduction to Pandas"
      ]
    },
    {
      "cell_type": "markdown",
      "metadata": {
        "id": "0sESpWTZh3aX",
        "colab_type": "text"
      },
      "source": [
        "[Pandas](https://pandas.pydata.org/docs/index.html) is a Python package which is designed to make working with \"relational\" data both easy and intuitive. **Pandas is built on top of Numpy**.\n",
        "\n",
        "There are two primary data structures of Pandas: [`Series`](https://pandas.pydata.org/docs/reference/api/pandas.Series.html#pandas.Series \"pandas.Series\") (1-dimensional) and [`DataFrame`](https://pandas.pydata.org/docs/reference/api/pandas.DataFrame.html#pandas.DataFrame \"pandas.DataFrame\") (2-dimensional). Dataframe is a container for Series, and Series is a container for scalars. \n",
        "\n",
        "![alt text](https://pandas.pydata.org/docs/_images/01_table_dataframe.svg)\n",
        "\n",
        "Pandas supports the integration with many file formats or data sources:\n",
        "\n",
        "![alt text](https://pandas.pydata.org/docs/_images/02_io_readwrite.svg)\n",
        "\n",
        "This is a short introduction to pandas, geared mainly for new users. You can see more complex recipes in the [Cookbook](https://pandas.pydata.org/docs/user_guide/cookbook.html#cookbook)."
      ]
    },
    {
      "cell_type": "markdown",
      "metadata": {
        "id": "zUWi_2bejktq",
        "colab_type": "text"
      },
      "source": [
        "**Import libraries**"
      ]
    },
    {
      "cell_type": "code",
      "metadata": {
        "id": "Kh4TLypCjPxt",
        "colab_type": "code",
        "colab": {}
      },
      "source": [
        "import numpy as np\n",
        "import pandas as pd\n",
        "import matplotlib.pyplot as plt\n",
        "import seaborn as sns\n",
        "%matplotlib inline\n",
        "\n",
        "import warnings\n",
        "warnings.filterwarnings('ignore')\n",
        "\n",
        "sns.set_style(\"whitegrid\")"
      ],
      "execution_count": 0,
      "outputs": []
    },
    {
      "cell_type": "markdown",
      "metadata": {
        "id": "x4JlJFYElHQd",
        "colab_type": "text"
      },
      "source": [
        "## Object creation"
      ]
    },
    {
      "cell_type": "code",
      "metadata": {
        "id": "iJi4iocyjPwA",
        "colab_type": "code",
        "colab": {
          "base_uri": "https://localhost:8080/",
          "height": 119
        },
        "outputId": "7cce9b7e-35b2-439b-99ef-6828ada88551"
      },
      "source": [
        "# Creating a Series with default integer index\n",
        "s = pd.Series([1, 2, 3, 4, 5])\n",
        "s"
      ],
      "execution_count": 4,
      "outputs": [
        {
          "output_type": "execute_result",
          "data": {
            "text/plain": [
              "0    1\n",
              "1    2\n",
              "2    3\n",
              "3    4\n",
              "4    5\n",
              "dtype: int64"
            ]
          },
          "metadata": {
            "tags": []
          },
          "execution_count": 4
        }
      ]
    },
    {
      "cell_type": "code",
      "metadata": {
        "id": "P73-rSnVhBCt",
        "colab_type": "code",
        "colab": {
          "base_uri": "https://localhost:8080/",
          "height": 204
        },
        "outputId": "ab5b1640-3e3f-4045-ef6c-e951425b8fce"
      },
      "source": [
        "# Creating a DataFrame with a datetime index and labeled columns\n",
        "dates = pd.date_range('20200531', periods=5)\n",
        "\n",
        "df = pd.DataFrame(np.random.randn(5, 4), index=dates, columns=list('ABCD'))\n",
        "df"
      ],
      "execution_count": 5,
      "outputs": [
        {
          "output_type": "execute_result",
          "data": {
            "text/html": [
              "<div>\n",
              "<style scoped>\n",
              "    .dataframe tbody tr th:only-of-type {\n",
              "        vertical-align: middle;\n",
              "    }\n",
              "\n",
              "    .dataframe tbody tr th {\n",
              "        vertical-align: top;\n",
              "    }\n",
              "\n",
              "    .dataframe thead th {\n",
              "        text-align: right;\n",
              "    }\n",
              "</style>\n",
              "<table border=\"1\" class=\"dataframe\">\n",
              "  <thead>\n",
              "    <tr style=\"text-align: right;\">\n",
              "      <th></th>\n",
              "      <th>A</th>\n",
              "      <th>B</th>\n",
              "      <th>C</th>\n",
              "      <th>D</th>\n",
              "    </tr>\n",
              "  </thead>\n",
              "  <tbody>\n",
              "    <tr>\n",
              "      <th>2020-05-31</th>\n",
              "      <td>-0.444815</td>\n",
              "      <td>0.297865</td>\n",
              "      <td>-0.323638</td>\n",
              "      <td>0.604077</td>\n",
              "    </tr>\n",
              "    <tr>\n",
              "      <th>2020-06-01</th>\n",
              "      <td>-1.295819</td>\n",
              "      <td>0.956723</td>\n",
              "      <td>-2.373778</td>\n",
              "      <td>-1.192990</td>\n",
              "    </tr>\n",
              "    <tr>\n",
              "      <th>2020-06-02</th>\n",
              "      <td>0.224029</td>\n",
              "      <td>-1.476423</td>\n",
              "      <td>0.200578</td>\n",
              "      <td>0.022282</td>\n",
              "    </tr>\n",
              "    <tr>\n",
              "      <th>2020-06-03</th>\n",
              "      <td>0.464458</td>\n",
              "      <td>0.930336</td>\n",
              "      <td>0.383419</td>\n",
              "      <td>0.637020</td>\n",
              "    </tr>\n",
              "    <tr>\n",
              "      <th>2020-06-04</th>\n",
              "      <td>0.271888</td>\n",
              "      <td>-0.740039</td>\n",
              "      <td>1.455968</td>\n",
              "      <td>2.078313</td>\n",
              "    </tr>\n",
              "  </tbody>\n",
              "</table>\n",
              "</div>"
            ],
            "text/plain": [
              "                   A         B         C         D\n",
              "2020-05-31 -0.444815  0.297865 -0.323638  0.604077\n",
              "2020-06-01 -1.295819  0.956723 -2.373778 -1.192990\n",
              "2020-06-02  0.224029 -1.476423  0.200578  0.022282\n",
              "2020-06-03  0.464458  0.930336  0.383419  0.637020\n",
              "2020-06-04  0.271888 -0.740039  1.455968  2.078313"
            ]
          },
          "metadata": {
            "tags": []
          },
          "execution_count": 5
        }
      ]
    },
    {
      "cell_type": "code",
      "metadata": {
        "id": "zlp-GxgBlrTK",
        "colab_type": "code",
        "colab": {}
      },
      "source": [
        "# Creating a DataFrame by passing a dict of keys as column names and series-like values\n",
        "df2 = pd.DataFrame({'A': 1.,\n",
        "                    'B': pd.Timestamp('20200531'),\n",
        "                    'C': pd.Series([1, 2, 3, 4], index=list(range(4)), dtype='float32'),\n",
        "                    'D': np.ones(4, dtype='int32'),\n",
        "                    'E': pd.Categorical([\"BMW\", \"Audi\", \"Toyota\", np.nan]),\n",
        "                    'F': 'VN'})\n",
        "df2"
      ],
      "execution_count": 0,
      "outputs": []
    },
    {
      "cell_type": "code",
      "metadata": {
        "id": "_xkTHZornSO6",
        "colab_type": "code",
        "colab": {}
      },
      "source": [
        "# The columns of the resulting DataFrame have different dtypes\n",
        "df2.info()"
      ],
      "execution_count": 0,
      "outputs": []
    },
    {
      "cell_type": "code",
      "metadata": {
        "id": "cvZ3boStx1s7",
        "colab_type": "code",
        "colab": {}
      },
      "source": [
        "# Renaming columns\n",
        "df = df.rename(columns = {'A':'a'})\n",
        "# or \n",
        "# df.rename(columns = {'A':'a'}, inplace = True)"
      ],
      "execution_count": 0,
      "outputs": []
    },
    {
      "cell_type": "markdown",
      "metadata": {
        "id": "NX3BzZvS20QZ",
        "colab_type": "text"
      },
      "source": [
        "****"
      ]
    },
    {
      "cell_type": "code",
      "metadata": {
        "id": "F7ECMeMR245R",
        "colab_type": "code",
        "colab": {}
      },
      "source": [
        "# Change the data type of a column\n",
        "df['A'] = df['A'].astype('str')"
      ],
      "execution_count": 0,
      "outputs": []
    },
    {
      "cell_type": "code",
      "metadata": {
        "id": "5uNSLnB2yCiG",
        "colab_type": "code",
        "colab": {}
      },
      "source": [
        "# Drop columns\n",
        "df['E'] = 1\n",
        "df['F'] = 2\n",
        "print(df)\n",
        "df.drop(columns=['E', 'F'], axis = 1, inplace=True)\n",
        "df"
      ],
      "execution_count": 0,
      "outputs": []
    },
    {
      "cell_type": "code",
      "metadata": {
        "id": "FTQYs_hFgIDs",
        "colab_type": "code",
        "colab": {}
      },
      "source": [
        "# Drop rows\n",
        "df_temp = df.copy()\n",
        "df_temp.drop(labels=df.index[:2], inplace=True)\n",
        "df_temp"
      ],
      "execution_count": 0,
      "outputs": []
    },
    {
      "cell_type": "markdown",
      "metadata": {
        "id": "FYDgonwDqGOz",
        "colab_type": "text"
      },
      "source": [
        "## Viewing data"
      ]
    },
    {
      "cell_type": "code",
      "metadata": {
        "id": "zFGK6T3unjap",
        "colab_type": "code",
        "colab": {}
      },
      "source": [
        "df.head()       # first five rows\n",
        "\n",
        "df.tail()       # last five rows\n",
        "\n",
        "df.sample(5)    # random sample of rows\n",
        "\n",
        "df.shape        # number of rows/columns in a tuple\n",
        "\n",
        "df.describe()   # calculates measures of central tendency\n",
        "\n",
        "df.info()       # memory footprint and datatypes\n",
        "\n",
        "df.index        # display the index\n",
        "\n",
        "df.columns      # display the columns"
      ],
      "execution_count": 0,
      "outputs": []
    },
    {
      "cell_type": "markdown",
      "metadata": {
        "id": "WO7_jtn_qmYP",
        "colab_type": "text"
      },
      "source": [
        "[`DataFrame.to_numpy()`](https://pandas.pydata.org/docs/reference/api/pandas.DataFrame.to_numpy.html#pandas.DataFrame.to_numpy \"pandas.DataFrame.to_numpy\") gives a NumPy representation of the underlying data. Note that this can be an expensive operation when your [`DataFrame`](https://pandas.pydata.org/docs/reference/api/pandas.DataFrame.html#pandas.DataFrame \"pandas.DataFrame\") has columns with different data types, which comes down to a fundamental difference between pandas and NumPy: **NumPy arrays have one dtype for the entire array, while pandas DataFrames have one dtype per column**.\n",
        "\n",
        ">**Note:**\n",
        ">DataFrame.to_numpy() does not include the index or column labels in the output."
      ]
    },
    {
      "cell_type": "code",
      "metadata": {
        "id": "w1If-1svp08Q",
        "colab_type": "code",
        "colab": {}
      },
      "source": [
        "df2.to_numpy()"
      ],
      "execution_count": 0,
      "outputs": []
    },
    {
      "cell_type": "markdown",
      "metadata": {
        "id": "PwrLrDTtraUB",
        "colab_type": "text"
      },
      "source": [
        "**Sorting**"
      ]
    },
    {
      "cell_type": "code",
      "metadata": {
        "id": "fCSbxcT1rERD",
        "colab_type": "code",
        "colab": {}
      },
      "source": [
        "# Sort by index\n",
        "df.sort_index(axis=0, ascending=False)"
      ],
      "execution_count": 0,
      "outputs": []
    },
    {
      "cell_type": "code",
      "metadata": {
        "id": "zazH0_P7rVI4",
        "colab_type": "code",
        "colab": {}
      },
      "source": [
        "# Sort by column\n",
        "df.sort_values(by='B')"
      ],
      "execution_count": 0,
      "outputs": []
    },
    {
      "cell_type": "code",
      "metadata": {
        "id": "lzBDWgvzurXc",
        "colab_type": "code",
        "colab": {}
      },
      "source": [
        "# Sort by columns\n",
        "df.sort_values(by=['B', 'A', 'D'], ascending=[True, True, False])"
      ],
      "execution_count": 0,
      "outputs": []
    },
    {
      "cell_type": "markdown",
      "metadata": {
        "id": "L7v6p9e_r6Io",
        "colab_type": "text"
      },
      "source": [
        "## Selection"
      ]
    },
    {
      "cell_type": "code",
      "metadata": {
        "id": "TIk5EsjArpoO",
        "colab_type": "code",
        "colab": {}
      },
      "source": [
        "# Selecting a single column\n",
        "df['A']"
      ],
      "execution_count": 0,
      "outputs": []
    },
    {
      "cell_type": "code",
      "metadata": {
        "id": "_yi15A5GsJ3n",
        "colab_type": "code",
        "colab": {}
      },
      "source": [
        "# Selecting multiple columns\n",
        "df[['A', 'B']]"
      ],
      "execution_count": 0,
      "outputs": []
    },
    {
      "cell_type": "markdown",
      "metadata": {
        "id": "Nvy4WUqKvP0d",
        "colab_type": "text"
      },
      "source": [
        "**Selection by label**"
      ]
    },
    {
      "cell_type": "code",
      "metadata": {
        "id": "4b5jpGxjtTTS",
        "colab_type": "code",
        "colab": {}
      },
      "source": [
        "df.loc['20200531']      # using a label\n",
        "\n",
        "df.loc[:, ['A', 'B']]   # by list of columns\n",
        "\n",
        "df.loc['20200531', 'A'] # Getting a scalar value at a specific position"
      ],
      "execution_count": 0,
      "outputs": []
    },
    {
      "cell_type": "markdown",
      "metadata": {
        "id": "AQ9sNuGDwI9r",
        "colab_type": "text"
      },
      "source": [
        "**Selection by integer position**"
      ]
    },
    {
      "cell_type": "code",
      "metadata": {
        "id": "WM8hK5QOvUrs",
        "colab_type": "code",
        "colab": {}
      },
      "source": [
        "df.iloc[3]                  # 4th row\n",
        "\n",
        "df.iloc[3:5, 0:2]           # slicing, similar to numpy/python\n",
        "\n",
        "df.iloc[[1, 2], [1, 3]]     # by list of integer position\n",
        "\n",
        "df.iloc[2, 2]               # getting a value explicitly"
      ],
      "execution_count": 0,
      "outputs": []
    },
    {
      "cell_type": "markdown",
      "metadata": {
        "id": "gW4lDGb3xAyv",
        "colab_type": "text"
      },
      "source": [
        "**Boolean indexing**"
      ]
    },
    {
      "cell_type": "code",
      "metadata": {
        "id": "EUTDNgBcwaXD",
        "colab_type": "code",
        "colab": {}
      },
      "source": [
        "df[df['B'] > 0]"
      ],
      "execution_count": 0,
      "outputs": []
    },
    {
      "cell_type": "code",
      "metadata": {
        "id": "peGwYT47xJEv",
        "colab_type": "code",
        "colab": {}
      },
      "source": [
        "df[df > 0]"
      ],
      "execution_count": 0,
      "outputs": []
    },
    {
      "cell_type": "code",
      "metadata": {
        "id": "1NIaF2f4xMX7",
        "colab_type": "code",
        "colab": {}
      },
      "source": [
        "# Using isin() method for filtering\n",
        "df['E'] = ['one', 'one', 'two', 'three', 'three']\n",
        "print(df)\n",
        "df[df['E'].isin(['two', 'three'])]"
      ],
      "execution_count": 0,
      "outputs": []
    },
    {
      "cell_type": "markdown",
      "metadata": {
        "id": "aPIVRqDQ5N_9",
        "colab_type": "text"
      },
      "source": [
        "## Data Manipulation"
      ]
    },
    {
      "cell_type": "markdown",
      "metadata": {
        "id": "8DSXqAHW5P1o",
        "colab_type": "text"
      },
      "source": [
        "### Missing Data\n",
        "\n",
        "pandas primarily uses the value `np.nan` to represent missing data. It is by default not included in computations."
      ]
    },
    {
      "cell_type": "code",
      "metadata": {
        "id": "kLLRhu21xWAx",
        "colab_type": "code",
        "colab": {}
      },
      "source": [
        "df['E'] = 'VN'\n",
        "df.loc[df.index[:2], 'E'] = np.nan\n",
        "df"
      ],
      "execution_count": 0,
      "outputs": []
    },
    {
      "cell_type": "code",
      "metadata": {
        "id": "gE9mkXpf33AD",
        "colab_type": "code",
        "colab": {}
      },
      "source": [
        "# To drop any rows that have missing data.\n",
        "# how='any' : If any NA values are present, drop that row or column.  \n",
        "# how='all' : If all values are NA, drop that row or column.  \n",
        "df = df.dropna(how='any', axis=1)"
      ],
      "execution_count": 0,
      "outputs": []
    },
    {
      "cell_type": "code",
      "metadata": {
        "id": "J2wHk1sF58kE",
        "colab_type": "code",
        "colab": {}
      },
      "source": [
        "# Filling missing data.\n",
        "df.fillna(value='NA')"
      ],
      "execution_count": 0,
      "outputs": []
    },
    {
      "cell_type": "code",
      "metadata": {
        "id": "dkYu8y6x59a-",
        "colab_type": "code",
        "colab": {}
      },
      "source": [
        "# To get the boolean mask where values are nan.\n",
        "df.isna()"
      ],
      "execution_count": 0,
      "outputs": []
    },
    {
      "cell_type": "markdown",
      "metadata": {
        "id": "OLmA4u096lVH",
        "colab_type": "text"
      },
      "source": [
        "### Operations"
      ]
    },
    {
      "cell_type": "markdown",
      "metadata": {
        "id": "y1NUnZWk7J1Q",
        "colab_type": "text"
      },
      "source": [
        "**Aggregate function**"
      ]
    },
    {
      "cell_type": "code",
      "metadata": {
        "id": "Ctt6jdbd6MSz",
        "colab_type": "code",
        "colab": {}
      },
      "source": [
        "df['A'].sum() # Sum\n",
        "\n",
        "df['A'].max() # Max\n",
        "\n",
        "df['A'].min() # Min\n",
        "\n",
        "df['A'].mean() # Arithmetic mean\n",
        "\n",
        "df['A'].median() # Median\n",
        "\n",
        "df['A'].mode() # Mode\n",
        "\n",
        "df['A'].std() # Standard Deviation\n",
        "\n",
        "df['A'].count() # Number of non-null values"
      ],
      "execution_count": 0,
      "outputs": []
    },
    {
      "cell_type": "markdown",
      "metadata": {
        "id": "7QWpMfy47MDk",
        "colab_type": "text"
      },
      "source": [
        "**String manipulation**"
      ]
    },
    {
      "cell_type": "code",
      "metadata": {
        "id": "N-fgFS_d6wP6",
        "colab_type": "code",
        "colab": {}
      },
      "source": [
        "df['E'].str.lower() # Lowercase string \n",
        "\n",
        "df['E'].str.upper() # Uppercase string\n",
        "\n",
        "df['E'].str.capitalize() # Capitalize string\n",
        "\n",
        "df['E'].str.len() # Return length of the string\n",
        "\n",
        "df['E'].str.split(' ') # Split string by a character\n",
        "\n",
        "df['E'].str.strip() # Remove spaces on the left and right of the string\n",
        "\n",
        "df['E'].str.lstrip() # Remove spaces on the left of the string\n",
        "\n",
        "df['E'].str.rstrip() # Remove spaces on the right of the string\n",
        "\n",
        "df['E'].str.contains('V') # Check whether the string contains a substring\n",
        "\n",
        "df['E'].str.findall(r'^[^AEIOU].*[^aeiou]$') # Extract substring based on a pattern (use flag 'r' for regex)"
      ],
      "execution_count": 0,
      "outputs": []
    },
    {
      "cell_type": "markdown",
      "metadata": {
        "id": "0Y5x8ilB7Ng_",
        "colab_type": "text"
      },
      "source": [
        "### Apply"
      ]
    },
    {
      "cell_type": "code",
      "metadata": {
        "id": "42dVbw3R7OA7",
        "colab_type": "code",
        "colab": {}
      },
      "source": [
        "# Applying functions to the data\n",
        "df[['A', 'B']].apply(lambda x: x + 100)"
      ],
      "execution_count": 0,
      "outputs": []
    },
    {
      "cell_type": "code",
      "metadata": {
        "id": "2Jnur7_I8Ebp",
        "colab_type": "code",
        "colab": {}
      },
      "source": [
        "def relu(z):\n",
        "    return 0 if z < 0 else z\n",
        "\n",
        "df['A'].apply(relu)"
      ],
      "execution_count": 0,
      "outputs": []
    },
    {
      "cell_type": "markdown",
      "metadata": {
        "id": "KDLcrMPN9XV7",
        "colab_type": "text"
      },
      "source": [
        "### Histogramming"
      ]
    },
    {
      "cell_type": "code",
      "metadata": {
        "id": "LEKGaLjY8uls",
        "colab_type": "code",
        "colab": {}
      },
      "source": [
        "# Counting distinct values in a column\n",
        "df['E'].value_counts()"
      ],
      "execution_count": 0,
      "outputs": []
    },
    {
      "cell_type": "code",
      "metadata": {
        "id": "mp0db3Xc9ZoA",
        "colab_type": "code",
        "colab": {}
      },
      "source": [
        "# Getting list of distict values\n",
        "df['E'].unique()"
      ],
      "execution_count": 0,
      "outputs": []
    },
    {
      "cell_type": "code",
      "metadata": {
        "id": "kkLyByvX9rxg",
        "colab_type": "code",
        "colab": {}
      },
      "source": [
        "# Getting number of distinct values\n",
        "df['E'].nunique()"
      ],
      "execution_count": 0,
      "outputs": []
    },
    {
      "cell_type": "markdown",
      "metadata": {
        "id": "jHihYNYe-QG_",
        "colab_type": "text"
      },
      "source": [
        "### Merge"
      ]
    },
    {
      "cell_type": "markdown",
      "metadata": {
        "id": "HPeiLFRh-08T",
        "colab_type": "text"
      },
      "source": [
        "**Concat**"
      ]
    },
    {
      "cell_type": "code",
      "metadata": {
        "id": "YQvyVRLh9zwR",
        "colab_type": "code",
        "colab": {}
      },
      "source": [
        "# Rows of df1 followed by rows of df2\n",
        "df = pd.concat([df1, df2])\n",
        "\n",
        "# df2 to the right side of df1\n",
        "df = pd.concat([df1, df2], axis = 1)"
      ],
      "execution_count": 0,
      "outputs": []
    },
    {
      "cell_type": "markdown",
      "metadata": {
        "id": "ugVEYs-B-38P",
        "colab_type": "text"
      },
      "source": [
        "**Joining two DataFrames**"
      ]
    },
    {
      "cell_type": "code",
      "metadata": {
        "id": "KOMNcrMN-4R7",
        "colab_type": "code",
        "colab": {}
      },
      "source": [
        "df = pd.read_csv('https://raw.githubusercontent.com/dhminh1024/practice_datasets/master/titanic.csv')\n",
        "\n",
        "df_left = df[['Name','PClass']]\n",
        "df_right = df[['Name','Survived']]\n",
        "\n",
        "df_inner = pd.merge(df_left, df_right, on = 'Name', how = 'inner') # Inner join\n",
        "\n",
        "df_outer = pd.merge(df_left, df_right, on = 'Name', how = 'outer') # Outer outer join\n",
        "\n",
        "df_right = pd.merge(df_left, df_right, on = 'Name', how = 'right') # Right outer join\n",
        "\n",
        "df_left = pd.merge(df_left, df_right, on = 'Name', how = 'left') # Left join"
      ],
      "execution_count": 0,
      "outputs": []
    },
    {
      "cell_type": "markdown",
      "metadata": {
        "id": "inmcbjIK_Btz",
        "colab_type": "text"
      },
      "source": [
        "### Grouping"
      ]
    },
    {
      "cell_type": "markdown",
      "metadata": {
        "id": "4MDs9v-9_OXL",
        "colab_type": "text"
      },
      "source": [
        "By \"group by\" we are referring to a process involving one or more of the following steps:\n",
        "* **Splitting** the data into groups based on some criteria\n",
        "* **Applying** a function to each group independently\n",
        "* **Combining** the results into a data structure"
      ]
    },
    {
      "cell_type": "code",
      "metadata": {
        "id": "JHRiJXMS_C-I",
        "colab_type": "code",
        "colab": {}
      },
      "source": [
        "df2 = pd.DataFrame({'A': ['Group 1', 'Group 2', 'Group 1', 'Group 2',\n",
        "                         'Group 1', 'Group 2', 'Group 1', 'Group 1'],\n",
        "                   'B': ['Team 1', 'Team 1', 'Team 2', 'Team 3',\n",
        "                         'Team 2', 'Team 2', 'Team 1', 'Team 3'],\n",
        "                   'C': np.random.randn(8),\n",
        "                   'D': np.random.randn(8)})\n",
        "\n",
        "df2.groupby('A').sum()"
      ],
      "execution_count": 0,
      "outputs": []
    },
    {
      "cell_type": "code",
      "metadata": {
        "id": "VNSGaW39AJE2",
        "colab_type": "code",
        "colab": {}
      },
      "source": [
        "df2.groupby(['A', 'B']).sum()"
      ],
      "execution_count": 0,
      "outputs": []
    },
    {
      "cell_type": "markdown",
      "metadata": {
        "id": "s24NecZ1BLcv",
        "colab_type": "text"
      },
      "source": [
        "## Plotting"
      ]
    },
    {
      "cell_type": "markdown",
      "metadata": {
        "id": "4lxt_tbvBXHG",
        "colab_type": "text"
      },
      "source": [
        "On a DataFrame, the plot() method is a convenience to plot all of the columns with labels:"
      ]
    },
    {
      "cell_type": "code",
      "metadata": {
        "id": "qe7TMnXfALp2",
        "colab_type": "code",
        "colab": {}
      },
      "source": [
        "ts = pd.Series(np.random.randn(1000),\n",
        "               index=pd.date_range('1/1/2000', periods=1000))\n",
        "\n",
        "ts = ts.cumsum()\n",
        "ts.plot()"
      ],
      "execution_count": 0,
      "outputs": []
    },
    {
      "cell_type": "code",
      "metadata": {
        "id": "mnjj2GokBSAi",
        "colab_type": "code",
        "colab": {}
      },
      "source": [
        "ts2 = pd.DataFrame(np.random.randn(1000, 4), index=ts.index,\n",
        "                  columns=['A', 'B', 'C', 'D'])\n",
        "\n",
        "ts2 = ts2.cumsum()\n",
        "\n",
        "plt.figure()\n",
        "ts2.plot()\n",
        "plt.legend(loc='best')\n",
        "plt.show()"
      ],
      "execution_count": 0,
      "outputs": []
    },
    {
      "cell_type": "markdown",
      "metadata": {
        "id": "KrdKwoHgB1Ch",
        "colab_type": "text"
      },
      "source": [
        "## Getting data in/out"
      ]
    },
    {
      "cell_type": "markdown",
      "metadata": {
        "id": "qCf9nJsFCZEg",
        "colab_type": "text"
      },
      "source": [
        "**CSV file**"
      ]
    },
    {
      "cell_type": "code",
      "metadata": {
        "id": "eU-yT4bWBj9U",
        "colab_type": "code",
        "colab": {}
      },
      "source": [
        "# Writing to a csv file\n",
        "df.to_csv('foo.csv')"
      ],
      "execution_count": 0,
      "outputs": []
    },
    {
      "cell_type": "code",
      "metadata": {
        "id": "QlKtc7PBB7PG",
        "colab_type": "code",
        "colab": {}
      },
      "source": [
        "# Reading from a csv file\n",
        "pd.read_csv('foo.csv')"
      ],
      "execution_count": 0,
      "outputs": []
    },
    {
      "cell_type": "markdown",
      "metadata": {
        "id": "MhfwGx8pCbIa",
        "colab_type": "text"
      },
      "source": [
        "**HDF5**"
      ]
    },
    {
      "cell_type": "code",
      "metadata": {
        "id": "K-CdM88DCSQP",
        "colab_type": "code",
        "colab": {}
      },
      "source": [
        "# Writing to a HDF5 Store\n",
        "df.to_hdf('foo.h5', 'df')"
      ],
      "execution_count": 0,
      "outputs": []
    },
    {
      "cell_type": "code",
      "metadata": {
        "id": "2k5UMAjRCWRK",
        "colab_type": "code",
        "colab": {}
      },
      "source": [
        "# Reading from a HDF5 Store\n",
        "pd.read_hdf('foo.h5', 'df')"
      ],
      "execution_count": 0,
      "outputs": []
    },
    {
      "cell_type": "markdown",
      "metadata": {
        "id": "HDJ5z4dcCd-6",
        "colab_type": "text"
      },
      "source": [
        "**Excel**"
      ]
    },
    {
      "cell_type": "code",
      "metadata": {
        "id": "GXVvMa2SCe2q",
        "colab_type": "code",
        "colab": {}
      },
      "source": [
        "df.to_excel('foo.xlsx', sheet_name='Sheet1')"
      ],
      "execution_count": 0,
      "outputs": []
    },
    {
      "cell_type": "code",
      "metadata": {
        "id": "KjFBqHERCiyz",
        "colab_type": "code",
        "colab": {}
      },
      "source": [
        "pd.read_excel('foo.xlsx', 'Sheet1', index_col=None, na_values=['NA'])"
      ],
      "execution_count": 0,
      "outputs": []
    }
  ]
}